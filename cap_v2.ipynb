{
 "cells": [
  {
   "cell_type": "code",
   "execution_count": 1,
   "metadata": {
    "collapsed": false
   },
   "outputs": [
    {
     "name": "stdout",
     "output_type": "stream",
     "text": [
      "Hello World!\n"
     ]
    }
   ],
   "source": [
    "print 'Hello World!'\n",
    "import numpy as np\n",
    "import pandas as pd\n",
    "import matplotlib.pyplot as plt\n",
    "# Tell iPython to include plots inline in the notebook\n",
    "%matplotlib inline\n",
    "import warnings\n",
    "warnings.filterwarnings(\"ignore\")"
   ]
  },
  {
   "cell_type": "markdown",
   "metadata": {},
   "source": [
    ">>>Definition/Introduction/Motivation - Start<<<\n",
    "User clickstream data and information about a group of hotels is given. The users are classified into a set of classes.\n",
    "The classes are, Backpackers, Family, Couple. The objective is to predict the segment for a new customer using a\n",
    "classifier. The task is to explore different classifiers and then select the best one for predictions. Cross-validation\n",
    "is used to test the models by determining the F1 score.GraidCV and RandomCV are used to determine optimum\n",
    "hyper parameters for the classifiers.\n",
    ">>Data<<\n",
    "Data is given in the form of two tables.\n",
    ">train_search.csv:-<\n",
    "This table contains details about the hotel bookings. \n",
    ">Hotel.csv:-<  \n",
    "This table contains details about the hotel locations including a physical location and ratings\n",
    ">>Objectives<<\n",
    "1> Build a model than can predict the customer segment.\n",
    "2> Analyze different classifiers and understand their accuracy and speed.\n",
    "3> Implement CV based hyper-parameter optimization to tune the classifiers\n",
    ">>Metrics<<\n",
    "Cross-validation is used to validate the model for the test data against a model developed using the training data.\n",
    "The test and training data are randomly obtained from the \"train_search.csv\". An F1 score is obtained based on the\n",
    "predicted target and the acutal values for the target. This F1 score is the metrics for this project.\n",
    ">>Tasks<<\n",
    "The exercise is done  based on the following steps, \n",
    "<Step-1> Data mining and extraction:- This step involves reading the train_search.csv and hotel.csv and converting \n",
    "the data into a single table, globalTrain.csv. This process is executed using \"join\" using python pandas. \n",
    "However, here due to the size of data, I used mysql to generate the table. \n",
    "<Step-2> Identifying features and target in the test and training data. The features are extracted from the \n",
    "globalTrain and the target is the \"Segment\". This step involves the python pandas library and the following \n",
    "dataframes are created: X_train (features of trainigng data), y_train (target of training data), \n",
    "X_test (features of test dat i.e. evaluation.csv) and y_test (target of test data i.e. our final objective, \n",
    "the y_test is generated at the end). \n",
    "<Step-3> Performs cross-validation based F1 score tests and build the classifier models. Then fit the training \n",
    "data in the classifier. \n",
    ">>>Definition/Introduction/Motivation - End<<<"
   ]
  },
  {
   "cell_type": "markdown",
   "metadata": {},
   "source": [
    ">>>Step - 1 - Start<<<\n",
    "This step involved data extraction, mining and manipulations. Data is extracted and mined from the two inputted\n",
    "csv files.\n",
    ">>Data extraction and mining - Start<<\n",
    "This step involves the extraction of data and appluing necessary joins to converts multiple dataframes into a single\n",
    "dataframe.\n",
    "The primary tables are,\n",
    ">train_search.csv:-<\n",
    "Number of rows:- 162848\n",
    "Number of columns:- 12\n",
    "1> Search ID:- An unique number ... 2> Booking Date :- Hotel booking date ... 3> HotelCode:- A code for hotel \n",
    "identification. This is a foreign key mapped to the primary key in Hotel.csv ..4> Age :- Age of the customer ..\n",
    "5> Gender:- Gender of the customer .. 6> Number of Rooms :- Number of rooms booked in the hotel .. 7> Check in date :-\n",
    "Check in date in the hotel .. 8> Check out date :- Check out date for the booking .. 9> Seen Price :- Price for the \n",
    "booking ..10> isClicked:- click identifier on the website .. 11> isBooked :- a boolean value to see if it was booked\n",
    "online or not .. 12> Segment:- This is the classifier target.\n",
    ">Hotel.csv:-<  \n",
    "Number of rows:- 1000\n",
    "Number of columns:- 12    \n",
    "1> HotelCode:- An unique hote code identifier. This is the primary key in this table and used as a foreign key in\n",
    "train_search.csv... 2> City :- City in which the hotel is located 3> Latitude :- Latitude of the location of the hotel\n",
    "4> Longitude:- Longitude of the location of hotel 5> Star Rating:- Start rating of the hotel 6> TrioAdvisor Ration:- \n",
    "Trip advisor rating of the hotel"
   ]
  },
  {
   "cell_type": "markdown",
   "metadata": {},
   "source": [
    "Read train_search.csv and store the data in a data frame named, \"searchData\""
   ]
  },
  {
   "cell_type": "code",
   "execution_count": 2,
   "metadata": {
    "collapsed": false
   },
   "outputs": [
    {
     "name": "stdout",
     "output_type": "stream",
     "text": [
      "Successfull!!\n"
     ]
    }
   ],
   "source": [
    "import numpy as np\n",
    "import pandas as pd\n",
    "import matplotlib.pyplot as plt\n",
    "# Tell iPython to include plots inline in the notebook\n",
    "%matplotlib inline\n",
    "# Read dataset\n",
    "searchData = pd.read_csv(\"train_search.csv\")\n",
    "#print \"Dataset has {} rows, {} columns\".format(*searchData.shape)\n",
    "#print searchData.head() # print the first 5 rows\n",
    "print \"Successfull!!\""
   ]
  },
  {
   "cell_type": "markdown",
   "metadata": {},
   "source": [
    "Read Hotel.csv and store the data in a data frame named, \"hotelData\""
   ]
  },
  {
   "cell_type": "code",
   "execution_count": 3,
   "metadata": {
    "collapsed": false
   },
   "outputs": [
    {
     "name": "stdout",
     "output_type": "stream",
     "text": [
      "Successfull!!\n"
     ]
    }
   ],
   "source": [
    "# Read dataset\n",
    "hotelData = pd.read_csv(\"Hotel.csv\")\n",
    "#print \"Dataset has {} rows, {} columns\".format(*hotelData.shape)\n",
    "#print hotelData.head() # print the first 5 rows\n",
    "print \"Successfull!!\""
   ]
  },
  {
   "cell_type": "markdown",
   "metadata": {},
   "source": [
    "Now join the two data frames based on \"HotelCode\" and develop a single data frame \"globalData\". in this process also create a csv file, \"globalTrain.csv\". Due to the size of searchData and computational limitations on my laptop I did not execute this join, rather used mysql to execute the join.\n",
    ">>Data extraction and mining - End<<"
   ]
  },
  {
   "cell_type": "code",
   "execution_count": null,
   "metadata": {
    "collapsed": false
   },
   "outputs": [],
   "source": [
    "#globalData = searchData.join(hotelData, on='HotelCode')\n",
    "#print \"Dataset has {} rows, {} columns\".format(*globalData.shape)\n",
    "#print globalData.head() # print the first 5 rows\n"
   ]
  },
  {
   "cell_type": "markdown",
   "metadata": {},
   "source": [
    ">>Data manipulation - Start<<\n",
    "This step involves the following taskes,\n",
    "1> Removal of \"NA\" and missing data\n",
    "2> Convert strings to date time objects in the dataframes\n",
    "3> Addition of new columns by performing arithematic operations on the existing columns\n",
    "4> Convert discrete segments to discrete numbers understandable by the classifier. e.g. convert True/Falses to 1/0\n",
    "In the current data set following actions are performed,\n",
    "1> Replace True/False in \"isClicked\" column to 1/0\n",
    "2> Replace True/False in \"isBooked\" column to 1/0\n",
    "3> Replace 'backpacker'/'couple'/'family' in \"Segment\" to 1/3/2\n",
    "4> Convert \"Booking Date\" from string to datetime object\n",
    "5> Convert \"Check in date\" from string to datetime object\n",
    "6> Convert \"Check Out Date\" from string to datetime object\n",
    "7> Created a new column \"Stay Period\" - Difference in days between Check out date and Check in date\n",
    "8> Created a new column \"Travel Gap\" - Difference in days between booking date and check in date"
   ]
  },
  {
   "cell_type": "code",
   "execution_count": 4,
   "metadata": {
    "collapsed": false
   },
   "outputs": [
    {
     "name": "stdout",
     "output_type": "stream",
     "text": [
      "Successfull!!\n"
     ]
    }
   ],
   "source": [
    "globalData = pd.read_csv(\"globalTrain.csv\")\n",
    "#print globalData.head() # print the first 5 rows\n",
    "globalData=globalData.rename(columns = {' HotelCode':'HotelCode'})\n",
    "globalData=globalData.rename(columns = {' Age':'Age'})\n",
    "globalData=globalData.rename(columns = {' Gender':'Gender'})\n",
    "globalData=globalData.rename(columns = {' Number of Rooms':'Number of Rooms'})\n",
    "globalData=globalData.rename(columns = {' Check in date':'Check in date'})\n",
    "globalData=globalData.rename(columns = {' Check Out Date':'Check Out Date'})\n",
    "globalData=globalData.rename(columns = {' Seen Price':'Seen Price'})\n",
    "globalData=globalData.rename(columns = {' isClicked':'isClicked'})\n",
    "globalData=globalData.rename(columns = {' isBooked':'isBooked'})\n",
    "globalData=globalData.rename(columns = {' Segment':'Segment'})\n",
    "#print globalData.dtypes;\n",
    "globalData['Booking Date'] =  pd.to_datetime(globalData['Booking Date'])\n",
    "globalData['Check in date'] =  pd.to_datetime(globalData['Check in date'])\n",
    "globalData['Check Out Date'] =  pd.to_datetime(globalData['Check Out Date'])\n",
    "globalData['isClicked'] =  globalData['isClicked'].astype(str)\n",
    "globalData['isBooked'] =  globalData['isBooked'].astype(str)\n",
    "\n",
    "globalData['Stay Period'] = (globalData['Check Out Date'] - globalData['Check in date'])/np.timedelta64(1, 'D');\n",
    "globalData['Travel Gap'] = (globalData['Check in date'] - globalData['Booking Date'])/np.timedelta64(1, 'D');\n",
    "#print globalData.dtypes;\n",
    "#print \"Dataset has {} rows, {} columns\".format(*globalData.shape)\n",
    "#print globalData.head() # print the first 5 rows\n",
    "print \"Successfull!!\""
   ]
  },
  {
   "cell_type": "code",
   "execution_count": 5,
   "metadata": {
    "collapsed": false
   },
   "outputs": [
    {
     "name": "stdout",
     "output_type": "stream",
     "text": [
      "Successfull!!\n"
     ]
    }
   ],
   "source": [
    "#Now separate training data - Target\n",
    "y_train=globalData.iloc[:,[11]];\n",
    "y_train['Segment'] = y_train['Segment'].replace(['backpacker', 'couple','family'], [1, 3, 2])\n",
    "#print y_train.head();\n",
    "#print y_train.dtypes;\n",
    "print \"Successfull!!\""
   ]
  },
  {
   "cell_type": "code",
   "execution_count": 6,
   "metadata": {
    "collapsed": false
   },
   "outputs": [
    {
     "name": "stdout",
     "output_type": "stream",
     "text": [
      "Age                     int64\n",
      "Gender                  int64\n",
      "Number of Rooms         int64\n",
      "Seen Price              int64\n",
      "isClicked               int64\n",
      "isBooked                int64\n",
      "Star Rating             int64\n",
      "TripAdvisor Rating    float64\n",
      "Stay Period           float64\n",
      "Travel Gap            float64\n",
      "dtype: object\n",
      "Successful!!\n"
     ]
    }
   ],
   "source": [
    "#Now separate training data\n",
    "X_train=globalData.iloc[:,[3,4,5,8,9,10,16,17,18,19]];\n",
    "#X_train=globalData.iloc[:,[3,5,8,16,18]];\n",
    "#X_train=globalData.iloc[:,[3,4,8,16,18]];\n",
    "#X_train=globalData.iloc[:,[3,4,18]];\n",
    "#X_train=globalData.iloc[:,[3,4,5,8,9,16,17,18,19]];\n",
    "X_train['Gender'] = X_train['Gender'].replace(['male', 'female'], [1, 0])\n",
    "X_train['isClicked'] = X_train['isClicked'].replace(['True', 'False'], [1, 0])\n",
    "X_train['isBooked'] = X_train['isBooked'].replace(['True', 'False'], [1, 0])\n",
    "X_train[X_train < 0] = 0\n",
    "#print X_train.head();\n",
    "print X_train.dtypes;\n",
    "#print X_train['Travel Gap'];\n",
    "print \"Successful!!\""
   ]
  },
  {
   "cell_type": "code",
   "execution_count": 7,
   "metadata": {
    "collapsed": false
   },
   "outputs": [
    {
     "name": "stdout",
     "output_type": "stream",
     "text": [
      "                 Age         Gender  Number of Rooms    Seen Price  \\\n",
      "count  162848.000000  162848.000000    162848.000000  1.628480e+05   \n",
      "mean       31.976512       0.508517         1.118626  2.887562e+04   \n",
      "std        14.679818       0.499929         0.442624  1.685715e+06   \n",
      "min        18.000000       0.000000         1.000000  0.000000e+00   \n",
      "25%        22.000000       0.000000         1.000000  8.600000e+03   \n",
      "50%        28.000000       1.000000         1.000000  1.240000e+04   \n",
      "75%        37.000000       1.000000         1.000000  1.770000e+04   \n",
      "max        80.000000       1.000000         8.000000  3.311511e+08   \n",
      "\n",
      "           isClicked       isBooked    Star Rating  TripAdvisor Rating  \\\n",
      "count  162848.000000  162848.000000  162848.000000       162848.000000   \n",
      "mean        0.598933       0.032736       3.810928            4.144279   \n",
      "std         0.490116       0.177945       0.730745            0.498001   \n",
      "min         0.000000       0.000000       1.000000            0.000000   \n",
      "25%         0.000000       0.000000       3.000000            4.000000   \n",
      "50%         1.000000       0.000000       4.000000            4.000000   \n",
      "75%         1.000000       0.000000       4.000000            4.500000   \n",
      "max         1.000000       1.000000       5.000000            5.000000   \n",
      "\n",
      "         Stay Period     Travel Gap  \n",
      "count  162848.000000  162848.000000  \n",
      "mean        2.523095      40.471169  \n",
      "std         1.953268      54.703405  \n",
      "min         1.000000       0.000000  \n",
      "25%         1.000000       5.251863  \n",
      "50%         2.000000      19.499039  \n",
      "75%         3.000000      53.033843  \n",
      "max        28.000000     479.734850  \n"
     ]
    }
   ],
   "source": [
    "print X_train.describe()"
   ]
  },
  {
   "cell_type": "markdown",
   "metadata": {},
   "source": [
    "Now the X_train consists of the following 10 features,\n",
    "1> Age (3), \n",
    "2> Gender (4), \n",
    "3> Number of rooms (5), \n",
    "4> Seen price (8), \n",
    "5> isCLicked (9), \n",
    "6> isBooked (10), \n",
    "7> Star Rating (16), \n",
    "8> Trip Adviser Rating (17), \n",
    "9> Stay period (Difference in days between Check out date and Check in date) (18), \n",
    "10 > Travel Gap  (Difference in days between booking date and check in date) (19).\n",
    "Therefore, there are 10 features as mentioned above. Some of the features have a string/object value, convert those to discretes ones an zeros. \n",
    "*The number in braces is the column number in the \"globalData\" dataframe\n",
    ">>Data manipulation - End<<\n",
    ">>>Step - 1 - End<<<"
   ]
  },
  {
   "cell_type": "code",
   "execution_count": 7,
   "metadata": {
    "collapsed": false
   },
   "outputs": [],
   "source": [
    "#Now separate training data - Target\n",
    "#y_train=globalData.iloc[:,[11]];\n",
    "#y_train['Segment'] = y_train['Segment'].replace(['backpacker', 'couple','family'], [1, 3, 2])\n",
    "#print y_train.head();\n",
    "#print y_train.dtypes;\n",
    "#print \"Successfull!!\""
   ]
  },
  {
   "cell_type": "markdown",
   "metadata": {},
   "source": [
    ">>>Step - 2 - Start<<<\n",
    ">>Feature selection <<\n",
    "This step is very significant in the development of the classifier model. In this step a detailed analysis is done to\n",
    "determine the features those have a strong influence of the target. Intuitively it is logical that we need to build the\n",
    "classifier based on influential features to prevent over fitting. Through this analysis an exploration of different\n",
    "feature selection methods, such as KBest, Principal Component ANalysis (PCA) and Independent COmponent Analysis (ICA)\n",
    "are implemented.\n",
    "VarianceThreshold:-\n",
    "This method selects all the features those have a variance greater than thr threshold. In the current implementation\n",
    "we are removing the features those have a variance of less that 25% in data."
   ]
  },
  {
   "cell_type": "code",
   "execution_count": 8,
   "metadata": {
    "collapsed": false
   },
   "outputs": [
    {
     "name": "stdout",
     "output_type": "stream",
     "text": [
      "[  1.80000000e+01   7.10000000e+03   3.00000000e+00   1.00000000e+00\n",
      "   0.00000000e+00]\n",
      "   Age  Gender  Number of Rooms  Seen Price  isClicked  isBooked  Star Rating  \\\n",
      "0   18       0                1        7100          1         0            3   \n",
      "\n",
      "   TripAdvisor Rating  Stay Period  Travel Gap  \n",
      "0                 3.5          1.0         0.0  \n"
     ]
    }
   ],
   "source": [
    "from sklearn.feature_selection import VarianceThreshold\n",
    "sel = VarianceThreshold(threshold=(.5 * (1 - .5)))\n",
    "print sel.fit_transform(X_train)[0,:]\n",
    "print X_train.head(n=1)"
   ]
  },
  {
   "cell_type": "markdown",
   "metadata": {},
   "source": [
    "In the output, only the features those pass the threshold test are printed in the function call \"print sel.fit_transform(X_train)[0,:]\". From the variance threshold feature selection we find out FIVE features have a strong variance the follwing features are selected, 1> Age, 2> Seen Price 3> Star rating 4> Stay Period, 5> Travel Gap.\n",
    "Now let us build the features training data only with the five features in them"
   ]
  },
  {
   "cell_type": "code",
   "execution_count": 9,
   "metadata": {
    "collapsed": false
   },
   "outputs": [
    {
     "name": "stdout",
     "output_type": "stream",
     "text": [
      "Age              int64\n",
      "Seen Price       int64\n",
      "Star Rating      int64\n",
      "Stay Period    float64\n",
      "Travel Gap     float64\n",
      "dtype: object\n",
      "Successful!!\n"
     ]
    }
   ],
   "source": [
    "#Now separate training data\n",
    "#X_train=globalData.iloc[:,[3,4,5,8,9,10,16,17,18,19]];\n",
    "X_train=globalData.iloc[:,[3,8,16,18,19]];\n",
    "#X_train['Gender'] = X_train['Gender'].replace(['male', 'female'], [1, 0])\n",
    "#X_train['isClicked'] = X_train['isClicked'].replace(['True', 'False'], [1, 0])\n",
    "#X_train['isBooked'] = X_train['isBooked'].replace(['True', 'False'], [1, 0])\n",
    "X_train[X_train < 0] = 0\n",
    "#print X_train.head();\n",
    "print X_train.dtypes;\n",
    "print \"Successful!!\""
   ]
  },
  {
   "cell_type": "markdown",
   "metadata": {},
   "source": [
    "Now a correlation matrix is calcualted that determines the covarince between the parameters. It calculates the pearson's coefficient. The values range from -1 to 1. "
   ]
  },
  {
   "cell_type": "code",
   "execution_count": 10,
   "metadata": {
    "collapsed": false
   },
   "outputs": [
    {
     "name": "stdout",
     "output_type": "stream",
     "text": [
      "Successfull!!\n",
      "                  Age  Seen Price  Star Rating  Stay Period  Travel Gap  \\\n",
      "Age          1.000000   -0.006204    -0.013152     0.046623    0.035981   \n",
      "Seen Price  -0.006204    1.000000     0.012070     0.008268   -0.002529   \n",
      "Star Rating -0.013152    0.012070     1.000000     0.025758    0.015049   \n",
      "Stay Period  0.046623    0.008268     0.025758     1.000000    0.294996   \n",
      "Travel Gap   0.035981   -0.002529     0.015049     0.294996    1.000000   \n",
      "Segment      0.075425   -0.002862     0.002235    -0.025639    0.018113   \n",
      "\n",
      "              Segment  \n",
      "Age          0.075425  \n",
      "Seen Price  -0.002862  \n",
      "Star Rating  0.002235  \n",
      "Stay Period -0.025639  \n",
      "Travel Gap   0.018113  \n",
      "Segment      1.000000  \n"
     ]
    }
   ],
   "source": [
    "bigdata = pd.concat([X_train, y_train], axis=1)\n",
    "print \"Successfull!!\"\n",
    "print bigdata.corr()"
   ]
  },
  {
   "cell_type": "markdown",
   "metadata": {},
   "source": [
    "From the correlation matrix we observe the following, 1) Age is the most influential on the Segment as compared to other features. 2) Age is followed by \"Stay Period\" and \"Travel Gap\" in terms of covariances. 3) Star Rating is the least influential. Next we look at the principal components by performing a principal component analysis,"
   ]
  },
  {
   "cell_type": "code",
   "execution_count": 21,
   "metadata": {
    "collapsed": false
   },
   "outputs": [
    {
     "name": "stdout",
     "output_type": "stream",
     "text": [
      "[[  5.40301043e-08  -1.00000000e+00  -5.23225422e-09  -9.57986790e-09\n",
      "    8.20738300e-08]\n",
      " [ -1.04019883e-02  -8.25247335e-08  -2.01053042e-04  -1.05488136e-02\n",
      "   -9.99890234e-01]\n",
      " [  9.99933750e-01   5.31264886e-08  -6.82001479e-04   4.77206197e-03\n",
      "   -1.04526490e-02]\n",
      " [  4.87437946e-03   1.07588893e-08  -1.05208931e-02  -9.99877642e-01\n",
      "    1.05000874e-02]\n",
      " [ -7.31188424e-04   5.09970414e-09  -9.99944401e-01   1.05190570e-02\n",
      "    9.76948294e-05]]\n",
      "[  9.99999999e-01   1.05329430e-09   7.57287359e-11   1.22388248e-12\n",
      "   1.87696352e-13]\n"
     ]
    },
    {
     "data": {
      "text/plain": [
       "<matplotlib.text.Annotation at 0x7f8af9ea2510>"
      ]
     },
     "execution_count": 21,
     "metadata": {},
     "output_type": "execute_result"
    },
    {
     "data": {
      "image/png": "[encoded data removed]",
      "text/plain": [
       "<matplotlib.figure.Figure at 0x7f8afb530b50>"
      ]
     },
     "metadata": {},
     "output_type": "display_data"
    }
   ],
   "source": [
    "from sklearn.decomposition import PCA\n",
    "pca = PCA(n_components=5)\n",
    "pca.fit(X_train)\n",
    "# Print the components and the amount of variance in the data contained in each dimension\n",
    "print pca.components_\n",
    "print pca.explained_variance_ratio_\n",
    "fig, ax = plt.subplots()\n",
    "ax.scatter(pca.components_[0],pca.components_[1])\n",
    "ax.annotate('Age', (pca.components_[0][0],pca.components_[1][0]))\n",
    "ax.annotate('Seen Price', (pca.components_[0][1],pca.components_[1][1]))\n",
    "ax.annotate('Star Rating', (pca.components_[0][2],pca.components_[1][2]))\n",
    "ax.annotate('Stay Period', (pca.components_[0][3],pca.components_[1][3]))\n",
    "ax.annotate('Travel Gap', (pca.components_[0][4],pca.components_[1][4]))"
   ]
  },
  {
   "cell_type": "markdown",
   "metadata": {},
   "source": [
    "From the principal components we observe that only one component (1st component) accounts for 99% of variance in data. From the plot it is visisble that Seen Price, Travel Gap and (Age, Start Rating, Stay Period) are far apart from each other. Therefore each of these components can be individually used for building the predictive model. Now let us look at the independent component by performing and independent component analysys (ICA)."
   ]
  },
  {
   "cell_type": "code",
   "execution_count": 22,
   "metadata": {
    "collapsed": false
   },
   "outputs": [
    {
     "name": "stdout",
     "output_type": "stream",
     "text": [
      "[[ -8.32425274e-06  -1.36867712e-11  -2.19274693e-04   1.32039370e-03\n",
      "   -8.99445372e-06]\n",
      " [  1.68740925e-04   8.82687523e-12  -4.26115941e-05   9.23210461e-06\n",
      "   -2.56443059e-07]\n",
      " [  4.72867816e-06  -6.30755064e-12   9.34126252e-05   1.42665128e-04\n",
      "   -4.65621094e-05]\n",
      " [ -3.46457503e-08  -1.47005666e-09   7.80534108e-06  -8.66909533e-07\n",
      "    3.49387021e-08]\n",
      " [ -3.90965707e-06   1.46184409e-11  -3.38429291e-03  -5.14362096e-05\n",
      "   -3.09333401e-07]]\n"
     ]
    },
    {
     "data": {
      "text/plain": [
       "<matplotlib.axes._subplots.AxesSubplot at 0x7f8af9e812d0>"
      ]
     },
     "execution_count": 22,
     "metadata": {},
     "output_type": "execute_result"
    },
    {
     "data": {
      "image/png": "[encoded data removed]",
      "text/plain": [
       "<matplotlib.figure.Figure at 0x7f8afb530990>"
      ]
     },
     "metadata": {},
     "output_type": "display_data"
    }
   ],
   "source": [
    "from sklearn.decomposition import FastICA\n",
    "ica = FastICA(n_components=5, random_state=1)\n",
    "ica.fit(X_train)\n",
    "# Print the independent components\n",
    "print ica.components_\n",
    "pd.DataFrame(ica.components_, columns=X_train.columns).plot(kind = 'bar', figsize = (12, 6))"
   ]
  },
  {
   "cell_type": "markdown",
   "metadata": {},
   "source": [
    "ICA converts a multivariate dataset to additive individual components. The resulting matrix\n",
    "above is the ICA components. Each vector corresponds to a component, and it defines the independence\n",
    "with respect to other features. These components help in projecting the data from ICA axis to the original\n",
    "axis. The row feature can be reconstructed by a linear combination of the columns in that specific row. AT this point based on PCA and ICA, the features selected are, \"Age\", \"Star ating\" and \"Travel Gap\". Let us update our training data to contain only these three features,"
   ]
  },
  {
   "cell_type": "code",
   "execution_count": 11,
   "metadata": {
    "collapsed": false
   },
   "outputs": [
    {
     "name": "stdout",
     "output_type": "stream",
     "text": [
      "Age              int64\n",
      "Star Rating      int64\n",
      "Travel Gap     float64\n",
      "dtype: object\n",
      "Successful!!\n"
     ]
    }
   ],
   "source": [
    "X_train=globalData.iloc[:,[3,16,19]];\n",
    "X_train[X_train < 0] = 0\n",
    "#print X_train.head();\n",
    "print X_train.dtypes;\n",
    "print \"Successful!!\""
   ]
  },
  {
   "cell_type": "markdown",
   "metadata": {},
   "source": [
    ">>Feature selection - End <<\n",
    ">>>Step - 2 - End<<<"
   ]
  },
  {
   "cell_type": "markdown",
   "metadata": {},
   "source": [
    ">>> Step -3 - Start <<<\n",
    ">> Build testing model <<\n",
    "The best way to test a classifier model is cross-validation. In cross-validation an input set is brocken into training and testing set. The testting set is used to test the model built using the training set. And then the F1 score is computed. The next block of code is used to split the input data randomly into traing set and testing set. After the block is executed a set of training and test features and target are available for cross validation. The variables generated are X_train_cv, y_train_cv, X_test_cv and y_test_cv."
   ]
  },
  {
   "cell_type": "code",
   "execution_count": 12,
   "metadata": {
    "collapsed": false
   },
   "outputs": [
    {
     "name": "stdout",
     "output_type": "stream",
     "text": [
      "Training set: 122848 samples\n",
      "Test set: 40000 samples\n"
     ]
    }
   ],
   "source": [
    "from sklearn.cross_validation import train_test_split\n",
    "# First, decide how many training vs test samples you want\n",
    "num_test = 40000\n",
    "X_train_cv, X_test_cv, y_train_cv, y_test_cv = train_test_split(X_train, y_train, test_size=num_test)\n",
    "print \"Training set: {} samples\".format(X_train_cv.shape[0])\n",
    "print \"Test set: {} samples\".format(X_test_cv.shape[0])"
   ]
  },
  {
   "cell_type": "markdown",
   "metadata": {},
   "source": [
    "The next block of code is a method that fits a training data into an inputted classifier and also returns and prints the time it takes to train the model. Create a method, \"train_classifier\" that trains an input classifier with inputted training data. The mthods prints the training time and also returns the time to the caller."
   ]
  },
  {
   "cell_type": "code",
   "execution_count": 13,
   "metadata": {
    "collapsed": false
   },
   "outputs": [],
   "source": [
    "import time as time\n",
    "from sklearn.svm import SVC\n",
    "from sklearn.naive_bayes import GaussianNB\n",
    "from sklearn.tree import DecisionTreeClassifier\n",
    "from sklearn.discriminant_analysis import LinearDiscriminantAnalysis\n",
    "def train_classifier(clf, X_train, y_train):\n",
    "    #print \"Training {}...\".format(clf.__class__.__name__)\n",
    "    start = time.time()\n",
    "    clf.fit(X_train, y_train)\n",
    "    end = time.time()\n",
    "    #print \"Done!\\nTraining time (secs): {:.3f}\".format(end - start)\n",
    "    return (end - start)\n"
   ]
  },
  {
   "cell_type": "markdown",
   "metadata": {},
   "source": [
    "Now try different classifiers and track the time and the accuracy. In the following code snippet, several different types of classifiers are instantiated and each of their's prediction accurace is determined useing a brute force method."
   ]
  },
  {
   "cell_type": "markdown",
   "metadata": {},
   "source": [
    "A decision tree classifier is initiated and a classifier model is built and fittedwith the cross-validation training features and target."
   ]
  },
  {
   "cell_type": "code",
   "execution_count": 15,
   "metadata": {
    "collapsed": false
   },
   "outputs": [
    {
     "name": "stdout",
     "output_type": "stream",
     "text": [
      "Successfull!!\n"
     ]
    },
    {
     "name": "stderr",
     "output_type": "stream",
     "text": [
      "/home/akansha/anaconda2/lib/python2.7/site-packages/sklearn/utils/validation.py:515: DataConversionWarning: A column-vector y was passed when a 1d array was expected. Please change the shape of y to (n_samples, ), for example using ravel().\n",
      "  y = column_or_1d(y, warn=True)\n"
     ]
    }
   ],
   "source": [
    "# Fit model to training data\n",
    "#Best classifier\n",
    "import time as time\n",
    "from sklearn.tree import DecisionTreeClassifier\n",
    "from sklearn import svm, grid_search, naive_bayes\n",
    "from sklearn.grid_search import GridSearchCV, RandomizedSearchCV\n",
    "from sklearn import linear_model\n",
    "from  sklearn.ensemble import RandomForestClassifier\n",
    "from sklearn.svm import SVC\n",
    "from sklearn.naive_bayes import GaussianNB\n",
    "from sklearn.tree import DecisionTreeClassifier\n",
    "from sklearn.discriminant_analysis import LinearDiscriminantAnalysis\n",
    "from sklearn.naive_bayes import BernoulliNB\n",
    "from sklearn.linear_model import PassiveAggressiveClassifier\n",
    "\n",
    "#clf = DecisionTreeClassifier(random_state=0)\n",
    "#clf = DecisionTreeClassifier(min_samples_split= 2, max_leaf_nodes= 32, criterion= 'entropy',\n",
    "#                             max_depth = 9, min_samples_leaf=179)\n",
    "#clf = DecisionTreeClassifier(min_samples_split= 21, max_leaf_nodes= 20, criterion= 'gini',\n",
    "#                             max_depth = None, min_samples_leaf=11)\n",
    "\n",
    "#dtr_params = {'criterion':(\"gini\",\"entropy\")}\n",
    "#dtc2 = DecisionTreeClassifier(random_state=0)\n",
    "#clf = linear_model.LogisticRegression()\n",
    "#clf = grid_search.GridSearchCV(dtc2, dtr_params)\n",
    "\n",
    "#dtr_params = {'criterion':(\"gini\",\"entropy\"),'presort':(\"True\",\"False\"),\n",
    "#              'min_weight_fraction_leaf':(0,0.25,0.5), 'min_samples_leaf':(1,2,3),\n",
    "#              'min_samples_split':(2,4,8,16,32),'min_samples_split':(2,4,8,16), \n",
    "#              'max_features':(\"auto\",\"sqrt\",\"log2\"),'max_depth':np.arange(1,5,1)}\n",
    "#dtc2 = DecisionTreeClassifier(random_state=0)\n",
    "#clf = grid_search.GridSearchCV(dtc2, dtr_params)   \n",
    "\n",
    "#from  sklearn.ensemble import RandomForestClassifier\n",
    "#clf = RandomForestClassifier()\n",
    "#clf1 = RandomForestClassifier(n_estimators=20)\n",
    "# use a full grid over all parameters\n",
    "#param_grid = {#\"max_depth\": [3, None],\n",
    "              #\"max_features\": [1, 3, 10],\n",
    "              #\"min_samples_split\": [1, 3, 10],\n",
    "              #\"min_samples_leaf\": [1, 3, 10],\n",
    "              #\"bootstrap\": [True, False],\n",
    "              # \"criterion\": [\"gini\", \"entropy\"]\n",
    "              #  \"n_estimators\": [5, 20,30]}\n",
    "#clf = GridSearchCV(clf1, param_grid=param_grid)\n",
    "\n",
    "#parameters={'C' : [.005,.05,.5,1.,10.,100.,],\n",
    "#'fit_intercept' : [True, False],\n",
    "#'class_weight': [ None,'balanced'],\n",
    "#'random_state' : [None,42],\n",
    "#'penalty': ['l1', 'l2']\n",
    "#}\n",
    "#clf = svm.SVC()\n",
    "\n",
    "#SVC does not work\n",
    "#parameters = {'kernel':('linear', 'rbf'), 'C':[1, 20]}\n",
    "#svr = svm.SVC()\n",
    "#clf = SVC(kernel=\"linear\", C=1.0)\n",
    "\n",
    "#Bad results\n",
    "#clf= GaussianNB()\n",
    "\n",
    "#clf=SVC(C=1.0, cache_size=200, class_weight=None, coef0=0.0,\n",
    "#    decision_function_shape=None, degree=3, gamma='auto', kernel='rbf',\n",
    "#    max_iter=-1, probability=False, random_state=None, shrinking=True,\n",
    "#    tol=0.001, verbose=False)\n",
    "\n",
    "#from sklearn.linear_model import LogisticRegression\n",
    "#clf = LogisticRegression()\n",
    "\n",
    "\n",
    "#from sklearn.linear_model import SGDRegressor\n",
    "#clf = SGDRegressor(alpha=0.0001, average=False, epsilon=0.1, eta0=0.01,\n",
    "#             fit_intercept=True, l1_ratio=0.15, learning_rate='invscaling',\n",
    "#             loss='squared_loss', n_iter=5, penalty='l2', power_t=0.25,\n",
    "#             random_state=None, shuffle=True, verbose=0, warm_start=False)\n",
    "\n",
    "#from sklearn.naive_bayes import BernoulliNB\n",
    "#clf = BernoulliNB()\n",
    "\n",
    "#from sklearn.linear_model import PassiveAggressiveClassifier\n",
    "clf=PassiveAggressiveClassifier()\n",
    "\n",
    "#Works\n",
    "#from sklearn.neighbors import KNeighborsClassifier\n",
    "#clf = KNeighborsClassifier(n_neighbors=35)\n",
    "\n",
    "#Works\n",
    "#from  sklearn.ensemble import RandomForestClassifier\n",
    "#clf = RandomForestClassifier(criterion='entropy',n_estimators=100, max_features=None,random_state=None)\n",
    "#clf = RandomForestClassifier(n_estimators=20,min_samples_split=4)\n",
    "\n",
    "\n",
    "#Works\n",
    "#from  sklearn.ensemble import RandomForestClassifier\n",
    "#clf = RandomForestClassifier(n_estimators=100)\n",
    "#clf = RandomForestClassifier(n_estimators=100,max_features=None)\n",
    "\n",
    "#Works\n",
    "#from  sklearn.ensemble import AdaBoostClassifier\n",
    "#clf = AdaBoostClassifier(n_estimators=50)\n",
    "#clf = AdaBoostClassifier(n_estimators=60,learning_rate=0.65)\n",
    "\n",
    "#from sklearn.tree import DecisionTreeClassifier\n",
    "#clf2 = DecisionTreeClassifier(min_samples_split= 2, max_leaf_nodes= 20, criterion= 'gini',\n",
    "#                             max_depth = None, min_samples_leaf=1)\n",
    "#clf = AdaBoostClassifier(base_estimator=clf2,n_estimators=1,learning_rate=18,algorithm='SAMME')\n",
    "\n",
    "\n",
    "#clf1 = AdaBoostClassifier()\n",
    "#param_grid = { \"n_estimators\": [5, 20,30]}\n",
    "#lf = GridSearchCV(clf1, param_grid=param_grid)\n",
    "\n",
    "#from  sklearn.ensemble import RandomForestClassifier\n",
    "#clf1 = RandomForestClassifier(n_estimators=20)\n",
    "#clf = AdaBoostClassifier(base_estimator=clf1,n_estimators=50)\n",
    "\n",
    "#Works\n",
    "#from  sklearn.discriminant_analysis import LinearDiscriminantAnalysis\n",
    "#clf = LinearDiscriminantAnalysis(solver='eigen', shrinkage='auto', tol=0.0001)\n",
    "\n",
    "#Works\n",
    "#from  sklearn.discriminant_analysis import QuadraticDiscriminantAnalysis\n",
    "#clf = QuadraticDiscriminantAnalysis(priors=None, reg_param=0.0, store_covariances=False, tol=0.000000001)\n",
    "\n",
    "train_classifier(clf, X_train_cv, y_train_cv) # note: using entire training set here\n",
    "#print clf # you can inspect the learned model by printing it\n",
    "\n",
    "print \"Successfull!!\""
   ]
  },
  {
   "cell_type": "code",
   "execution_count": 14,
   "metadata": {
    "collapsed": true
   },
   "outputs": [],
   "source": [
    "#Predict on training set and compute F1 score\n",
    "from sklearn.metrics import f1_score\n",
    "def predict_labels(clf, features, target):\n",
    "    #print \"Predicting labels using {}...\".format(clf.__class__.__name__)\n",
    "    start = time.time()\n",
    "    y_pred = clf.predict(features)\n",
    "    end = time.time()\n",
    "    #print \"Done!\\nPrediction time (secs): {:.3f}\".format(end - start)\n",
    "    #return f1_score(target.values, y_pred, pos_label='yes')\n",
    "    return f1_score(target.values, y_pred) , (end - start)\n"
   ]
  },
  {
   "cell_type": "code",
   "execution_count": 16,
   "metadata": {
    "collapsed": false
   },
   "outputs": [
    {
     "name": "stderr",
     "output_type": "stream",
     "text": [
      "/home/akansha/anaconda2/lib/python2.7/site-packages/sklearn/metrics/classification.py:756: DeprecationWarning: The default `weighted` averaging is deprecated, and from version 0.18, use of precision, recall or F-score with multiclass or multilabel data or pos_label=None will result in an exception. Please set an explicit value for `average`, one of (None, 'micro', 'macro', 'weighted', 'samples'). In cross validation use, for instance, scoring=\"f1_weighted\" instead of scoring=\"f1\".\n",
      "  sample_weight=sample_weight)\n",
      "/home/akansha/anaconda2/lib/python2.7/site-packages/sklearn/metrics/classification.py:756: DeprecationWarning: The default `weighted` averaging is deprecated, and from version 0.18, use of precision, recall or F-score with multiclass or multilabel data or pos_label=None will result in an exception. Please set an explicit value for `average`, one of (None, 'micro', 'macro', 'weighted', 'samples'). In cross validation use, for instance, scoring=\"f1_weighted\" instead of scoring=\"f1\".\n",
      "  sample_weight=sample_weight)\n"
     ]
    }
   ],
   "source": [
    "#print y_train.head()\n",
    "#print X_train.head()\n",
    "train_cv_f1_score = predict_labels(clf, X_train_cv, y_train_cv)\n",
    "#print \"F1 score for training set: {}\".format(train_cv_f1_score)\n",
    "# Predict on test data\n",
    "test_cv_f1_score = predict_labels(clf, X_test_cv, y_test_cv)\n",
    "#print \"F1 score for test set: {}\".format(test_cv_f1_score)"
   ]
  },
  {
   "cell_type": "code",
   "execution_count": 53,
   "metadata": {
    "collapsed": true
   },
   "outputs": [],
   "source": [
    "#Report\n",
    "from astropy.table import Table, Column\n",
    "import time as time\n",
    "from sklearn.tree import DecisionTreeClassifier\n",
    "from sklearn import svm, grid_search, naive_bayes\n",
    "from sklearn.grid_search import GridSearchCV, RandomizedSearchCV\n",
    "from sklearn import linear_model\n",
    "from  sklearn.ensemble import RandomForestClassifier\n",
    "from sklearn.svm import SVC\n",
    "from sklearn.naive_bayes import GaussianNB\n",
    "from sklearn.tree import DecisionTreeClassifier\n",
    "from sklearn.discriminant_analysis import LinearDiscriminantAnalysis\n",
    "from sklearn.naive_bayes import BernoulliNB\n",
    "from sklearn.linear_model import PassiveAggressiveClassifier\n",
    "from sklearn.neighbors import KNeighborsClassifier\n",
    "from  sklearn.ensemble import AdaBoostClassifier\n",
    "from  sklearn.discriminant_analysis import QuadraticDiscriminantAnalysis\n",
    "from sklearn.linear_model import LogisticRegression"
   ]
  },
  {
   "cell_type": "code",
   "execution_count": 25,
   "metadata": {
    "collapsed": false
   },
   "outputs": [
    {
     "data": {
      "text/html": [
       "&lt;Table length=10&gt;\n",
       "<table id=\"table139673253914448\">\n",
       "<thead><tr><th>Type</th><th>Training time</th><th>Prediction time-Training</th><th>F1 score-Training</th><th>Prediction time-Testing</th><th>F1 score-Testing</th></tr></thead>\n",
       "<thead><tr><th>str25</th><th>float32</th><th>float32</th><th>float32</th><th>float32</th><th>float32</th></tr></thead>\n",
       "<tr><td>PassiveAggressiveClassifi</td><td>0.00794792</td><td>0.00794792</td><td>0.26596</td><td>0.00275993</td><td>0.26858</td></tr>\n",
       "<tr><td>GaussianNB</td><td>0.0181749</td><td>0.0181749</td><td>0.587897</td><td>0.00532699</td><td>0.589002</td></tr>\n",
       "<tr><td>DecisionTreeClassifier</td><td>0.0221438</td><td>0.0221438</td><td>0.986583</td><td>0.007617</td><td>0.977333</td></tr>\n",
       "<tr><td>RandomForestClassifier</td><td>0.290855</td><td>0.290855</td><td>0.983003</td><td>0.095232</td><td>0.952203</td></tr>\n",
       "<tr><td>BernoulliNB</td><td>0.015748</td><td>0.015748</td><td>0.323137</td><td>0.00455809</td><td>0.321842</td></tr>\n",
       "<tr><td>LogisticRegression</td><td>0.00847602</td><td>0.00847602</td><td>0.479718</td><td>0.00287604</td><td>0.477646</td></tr>\n",
       "<tr><td>KNeighborsClassifier</td><td>0.880349</td><td>0.880349</td><td>0.940098</td><td>0.286511</td><td>0.909916</td></tr>\n",
       "<tr><td>AdaBoostClassifier</td><td>1.43477</td><td>1.43477</td><td>0.601057</td><td>0.459271</td><td>0.598315</td></tr>\n",
       "<tr><td>LinearDiscriminantAnalysi</td><td>0.00837684</td><td>0.00837684</td><td>0.47976</td><td>0.00288296</td><td>0.477299</td></tr>\n",
       "<tr><td>QuadraticDiscriminantAnal</td><td>0.0278611</td><td>0.0278611</td><td>0.587528</td><td>0.00824785</td><td>0.588294</td></tr>\n",
       "</table>"
      ],
      "text/plain": [
       "<Table length=10>\n",
       "           Type           Training time ... F1 score-Testing\n",
       "          str25              float32    ...     float32     \n",
       "------------------------- ------------- ... ----------------\n",
       "PassiveAggressiveClassifi    0.00794792 ...          0.26858\n",
       "               GaussianNB     0.0181749 ...         0.589002\n",
       "   DecisionTreeClassifier     0.0221438 ...         0.977333\n",
       "   RandomForestClassifier      0.290855 ...         0.952203\n",
       "              BernoulliNB      0.015748 ...         0.321842\n",
       "       LogisticRegression    0.00847602 ...         0.477646\n",
       "     KNeighborsClassifier      0.880349 ...         0.909916\n",
       "       AdaBoostClassifier       1.43477 ...         0.598315\n",
       "LinearDiscriminantAnalysi    0.00837684 ...         0.477299\n",
       "QuadraticDiscriminantAnal     0.0278611 ...         0.588294"
      ]
     },
     "execution_count": 25,
     "metadata": {},
     "output_type": "execute_result"
    }
   ],
   "source": [
    "noOfTypes =10;\n",
    "t1 = Table(names=('Type','Training time' ,'Prediction time-Training', 'F1 score-Training', \n",
    "                  'Prediction time-Testing', 'F1 score-Testing'), dtype=('S25', 'f4','f4', 'f4','f4', 'f4'))\n",
    "\n",
    "for i in range(0,noOfTypes):\n",
    "    if i==0:\n",
    "        clf=PassiveAggressiveClassifier();\n",
    "    if i==1:\n",
    "        clf=GaussianNB(); \n",
    "    if i==2:    \n",
    "        clf = DecisionTreeClassifier(random_state=0)\n",
    "    if i==3:    \n",
    "        clf = RandomForestClassifier()\n",
    "    if i==4:    \n",
    "        clf = BernoulliNB()\n",
    "    if i==5:    \n",
    "        clf = LogisticRegression()\n",
    "    if i==6:    \n",
    "        clf = KNeighborsClassifier()\n",
    "    if i==7:    \n",
    "        clf = AdaBoostClassifier()\n",
    "    if i==8:    \n",
    "        clf = LinearDiscriminantAnalysis()\n",
    "    if i==9:    \n",
    "        clf = QuadraticDiscriminantAnalysis()\n",
    "        \n",
    "    clfType=clf.__class__.__name__;\n",
    "    trainTime=train_classifier(clf, X_train_cv, y_train_cv);\n",
    "    retVec=predict_labels(clf, X_train_cv, y_train_cv)\n",
    "    trainF1Score=retVec[0];\n",
    "    trainTime=retVec[1];\n",
    "    retVec1=predict_labels(clf, X_test_cv, y_test_cv)\n",
    "    testF1Score=retVec1[0];\n",
    "    testTime=retVec1[1];\n",
    "    t1.add_row((clfType,trainTime,trainTime, trainF1Score,testTime, testF1Score))\n",
    "\n",
    "#t1 = Table(names=('Type','Training time' ,'Prediction time-Training', 'F1 score-Training', 'Prediction time-Testing', 'F1 score-Testing'), dtype=('S13', 'f4','f4', 'f4','f4', 'f4'))\n",
    "#t1.add_row(('SVC',1,100, 3,4, 5))\n",
    "#t1.add_row(('SVC',2, 200, 33,44, 55))\n",
    "\n",
    "t1    "
   ]
  },
  {
   "cell_type": "markdown",
   "metadata": {},
   "source": [
    "The above table presents the performance analysis of a set of 10 different classifiers. The table presents the training time, prediction time of training data, f1 score of training data, prediction time of test data and f1 score os test data. Let us select the BEST THREE classifiers for further analysis. The next step is to use grid and random CV to determine optimizaed hyper parameters. The classifiers chosen at this point are,\n",
    "1> Decision Tree Classifier\n",
    "2> Random Forst Classifier\n",
    "3> KNeighbors Classifiers"
   ]
  },
  {
   "cell_type": "markdown",
   "metadata": {},
   "source": [
    "For the search of hyper parameters, the idea is to perform grid based search and random search for all the three classifier types and the analysis is plotted. First, few methods are implemeted,\n",
    "run_gridsearch :- This functions takes the data, parameters, number of folds and the classifier as input. It runs different several parameter options based on a grid and returns the best parameter set.\n",
    "run_randomsearch :- This functions takes the data, parameters, number of folds and the classifier as input. It runs different several parameter options randomly and returns the best parameter set.\n",
    "report :- Reports the top three scores."
   ]
  },
  {
   "cell_type": "code",
   "execution_count": 36,
   "metadata": {
    "collapsed": true
   },
   "outputs": [],
   "source": [
    "from time import time\n",
    "def run_gridsearch(X, y, clf, param_grid, cv=5):\n",
    "    \"\"\"\"\"\n",
    "    Args\n",
    "    ----\n",
    "    X -- features\n",
    "    y -- targets (classes)\n",
    "    cf -- scikit-learn classifier\n",
    "    param_grid -- [dict] parameter settings to test\n",
    "    cv -- fold of cross-validation, default 5\n",
    "\n",
    "    Returns\n",
    "    -------\n",
    "    top_params -- [dict] from report()\n",
    "    \"\"\"\n",
    "    grid_search = GridSearchCV(clf,\n",
    "                               param_grid=param_grid,\n",
    "                               cv=cv, verbose=5)\n",
    "    start = time()\n",
    "    grid_search.fit(X, y)\n",
    "\n",
    "    #print((\"\\nGridSearchCV took {:.2f} \"\n",
    "    #       \"seconds for {:d} candidate \"\n",
    "    #       \"parameter settings.\").format(time() - start,\n",
    "    #            len(grid_search.grid_scores_)))\n",
    "\n",
    "    top_params = report(grid_search.grid_scores_, 1)\n",
    "    return  top_params"
   ]
  },
  {
   "cell_type": "code",
   "execution_count": 42,
   "metadata": {
    "collapsed": true
   },
   "outputs": [],
   "source": [
    "from time import time\n",
    "def run_randomsearch(X, y, clf, para_dist, cv=5,\n",
    "                     n_iter_search=20):\n",
    "    \"\"\"\n",
    "\n",
    "    Args\n",
    "    ----\n",
    "    X -- features\n",
    "    y -- targets (classes)\n",
    "    cf -- scikit-learn classifier\n",
    "    param_dist -- [dict] list, distributions of parameters\n",
    "                  to sample\n",
    "    cv -- fold of cross-validation, default 5\n",
    "    n_iter_search -- number of random parameter sets to try,\n",
    "                     default 20.\n",
    "\n",
    "    Returns\n",
    "    -------\n",
    "    top_params -- [dict] from report()\n",
    "    \"\"\"\n",
    "    random_search = RandomizedSearchCV(clf,\n",
    "                        param_distributions=param_dist,\n",
    "                        n_iter=n_iter_search, verbose=5)\n",
    "\n",
    "    start = time()\n",
    "    random_search.fit(X, y)\n",
    "    #print((\"\\nRandomizedSearchCV took {:.2f} seconds \"\n",
    "    #       \"for {:d} candidates parameter \"\n",
    "    #       \"settings.\").format((time() - start),\n",
    "    #                          n_iter_search))\n",
    "\n",
    "    top_params = report(random_search.grid_scores_, 1)\n",
    "    return  top_params\n",
    "\n"
   ]
  },
  {
   "cell_type": "code",
   "execution_count": 34,
   "metadata": {
    "collapsed": true
   },
   "outputs": [],
   "source": [
    "from time import time\n",
    "from operator import itemgetter\n",
    "from scipy.stats import randint\n",
    "def report(grid_scores, n_top=3):\n",
    "    \"\"\"Report top n_top parameters settings, default n_top=3.\n",
    "\n",
    "    Args\n",
    "    ----\n",
    "    grid_scores -- output from grid or random search\n",
    "    n_top -- how many to report, of top models\n",
    "\n",
    "    Returns\n",
    "    -------\n",
    "    top_params -- [dict] top parameter settings found in\n",
    "                  search\n",
    "    \"\"\"\n",
    "    top_scores = sorted(grid_scores,\n",
    "                        key=itemgetter(1),\n",
    "                        reverse=True)[:n_top]\n",
    "    for i, score in enumerate(top_scores):\n",
    "        print(\"Model with rank: {0}\".format(i + 1))\n",
    "        print((\"Mean validation score: \"\n",
    "               \"{0:.3f} (std: {1:.3f})\").format(\n",
    "               score.mean_validation_score,\n",
    "               np.std(score.cv_validation_scores)))\n",
    "        print(\"Parameters: {0}\".format(score.parameters))\n",
    "        print(\"\")\n",
    "\n",
    "    return top_scores[0].parameters\n",
    "\n"
   ]
  },
  {
   "cell_type": "code",
   "execution_count": 49,
   "metadata": {
    "collapsed": false
   },
   "outputs": [],
   "source": [
    "from scipy.stats import randint as sp_randint\n",
    "from sklearn.svm import SVC\n",
    "from sklearn import svm, grid_search, naive_bayes\n",
    "from sklearn.grid_search import GridSearchCV, RandomizedSearchCV\n",
    "from sklearn import linear_model\n",
    "#print(\"-- Grid Parameter Search via 10-fold CV\")\n",
    "\n",
    "#Decision Tree Classifier \n",
    "#parameter distribution for Grid CV\n",
    "#param_dist = {\"criterion\": [\"gini\", \"entropy\"],\n",
    "#              \"min_samples_split\": [2,10,20],\n",
    "#              \"max_depth\": [None, 2, 5, 10],\n",
    "#              \"min_samples_leaf\": [1,5,10],\n",
    "#              \"max_leaf_nodes\": [None, 5, 10, 20],\n",
    "#              }\n",
    "#dt = DecisionTreeClassifier()\n",
    "\n",
    "#parameter distribution for random CV\n",
    "#param_dist = {\"criterion\": [\"gini\", \"entropy\"],\n",
    "#              \"min_samples_split\": sp_randint(1, 100),\n",
    "#              \"max_depth\": sp_randint(1, 20),\n",
    "#              \"min_samples_leaf\": sp_randint(1, 200),\n",
    "#              \"max_leaf_nodes\": sp_randint(2, 100),              \n",
    "#              }\n",
    "#dt = DecisionTreeClassifier()\n",
    "\n",
    "\n",
    "\n",
    "#RandomForestClassifier\n",
    "# build a classifier\n",
    "# Random parameters\n",
    "#param_dist = {\"max_depth\": [3, None],\n",
    "#              \"max_features\": sp_randint(1, 4),\n",
    "#              \"min_samples_split\": sp_randint(1, 11),\n",
    "#              \"min_samples_leaf\": sp_randint(1, 11),\n",
    "#              \"bootstrap\": [True, False],\n",
    "#              \"criterion\": [\"gini\", \"entropy\"]}\n",
    "#dt = RandomForestClassifier()\n",
    "\n",
    "# Grid parameters\n",
    "#param_dist = {\"max_depth\": [3, None],\n",
    "#              \"max_features\": [1,2,4],\n",
    "#              \"min_samples_split\": [2,5,11],\n",
    "#              \"min_samples_leaf\":  [2,5,11],\n",
    "#              \"bootstrap\": [True, False],\n",
    "#              \"criterion\": [\"gini\", \"entropy\"]}\n",
    "#dt = RandomForestClassifier()\n",
    "\n",
    "\n",
    "#KNearest Neighbors\n",
    "#GridCV parameters\n",
    "#param_dist = {\"n_neighbors\": [1,5,20,100],\n",
    "#              \"leaf_size\": [5,20,100],\n",
    "#              \"p\": [1,2,10],\n",
    "#              \"algorithm\": [\"auto\", \"ball_tree\",\"kd_tree\",\"brute\"],\n",
    "#              \"weights\": [\"uniform\", \"distance\"]}\n",
    "#dt = KNeighborsClassifier()\n",
    "\n",
    "#RandomCV parameters\n",
    "#param_dist = {\"n_neighbors\": sp_randint(2, 100),\n",
    "#              \"leaf_size\": sp_randint(2, 100),\n",
    "#              \"p\": sp_randint(2, 10),\n",
    "#              \"algorithm\": [\"auto\", \"ball_tree\",\"kd_tree\"],\n",
    "#              \"weights\": [\"uniform\", \"distance\"]}\n",
    "#dt = KNeighborsClassifier()\n",
    "\n",
    "\n",
    "features = [\"Age\",\"Star Rating\",\"Travel Gap\"]\n",
    "\n",
    "y_arr = y_train[\"Segment\"]\n",
    "X_arr = X_train[features]\n",
    "#Call grid based CV search\n",
    "#ts_gs = run_gridsearch(X_arr, y_arr, dt, param_dist, cv=10)\n",
    "#Call random CV based search\n",
    "#ts_rs = run_randomsearch(X_arr, y_arr, dt, param_dist, cv=10,n_iter_search=500)"
   ]
  },
  {
   "cell_type": "markdown",
   "metadata": {},
   "source": [
    "Results fo CV based hyper-parameter search:-\n",
    "\n",
    "DecisionTreeClassifier - RandomCV :-\n",
    "Model with rank: 1\n",
    "Mean validation score: 0.589 (std: 0.005)\n",
    "Parameters: {'min_samples_split': 95, 'max_leaf_nodes': 54, 'criterion': 'entropy', 'max_depth': 11, 'min_samples_leaf': 42}\n",
    "DecisionTreeClassifier - GridCV :-\n",
    "Model with rank: 1\n",
    "Mean validation score: 0.609003 (std: 0.005)\n",
    "Parameters: {'min_samples_split': 10, 'max_leaf_nodes': 10, 'criterion': 'gini', 'max_depth': 'None', 'min_samples_leaf': 5}\n",
    "\n",
    "RandomForest - RandomCV :-\n",
    "Model with rank: 1\n",
    "Mean validation score: 0.589 (std: 0.003)\n",
    "Parameters: {'bootstrap': True, 'min_samples_leaf': 9, 'min_samples_split': 8, 'criterion': 'entropy', 'max_features': 3, 'max_depth': 3}\n",
    "RandomForest - GridCV :-\n",
    "Model with rank: 1\n",
    "Mean validation score: 0.590211 (std: 0.004)\n",
    "Parameters: {'bootstrap': True, 'min_samples_leaf': 2, 'min_samples_split': 5, 'criterion': 'gini', 'max_features': 1, 'max_depth': 3}\n",
    "\n",
    "KNearestNeighbors - RandomCV :-\n",
    "Model with rank: 1\n",
    "Mean validation score: 0.549 (std: 0.004)\n",
    "Parameters: {'n_neighbors': 86, 'weights': 'uniform', 'leaf_size': 93, 'algorithm': 'kd_tree', 'p': 5}\n",
    "KNearestNeighbors - GridCV :-\n",
    "Model with rank: 1\n",
    "Mean validation score: 0.542189 (std: 0.004)\n",
    "Parameters: {'n_neighbors': 1, 'weights': 'uniform', 'leaf_size': 5, 'algorithm': 'kd_tree', 'p': 10}\n",
    "\n"
   ]
  },
  {
   "cell_type": "markdown",
   "metadata": {
    "collapsed": true
   },
   "source": [
    "From the results the DecisionTreeClassifier with the following parameters is the best. \n",
    "('min_samples_split': 10, 'max_leaf_nodes': 10, 'criterion': 'gini', 'max_depth': 'None', 'min_samples_leaf': 5)"
   ]
  }
 ],
 "metadata": {
  "kernelspec": {
   "display_name": "Python 2",
   "language": "python",
   "name": "python2"
  },
  "language_info": {
   "codemirror_mode": {
    "name": "ipython",
    "version": 2
   },
   "file_extension": ".py",
   "mimetype": "text/x-python",
   "name": "python",
   "nbconvert_exporter": "python",
   "pygments_lexer": "ipython2",
   "version": "2.7.11"
  }
 },
 "nbformat": 4,
 "nbformat_minor": 0
}
